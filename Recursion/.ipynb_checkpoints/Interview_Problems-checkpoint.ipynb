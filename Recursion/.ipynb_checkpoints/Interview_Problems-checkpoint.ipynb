{
 "cells": [
  {
   "cell_type": "markdown",
   "metadata": {},
   "source": [
    "# Problem 1\n",
    "## Reverse a String\n",
    "This interview question requires you to reverse a string using recursion. "
   ]
  },
  {
   "cell_type": "code",
   "execution_count": 5,
   "metadata": {},
   "outputs": [],
   "source": [
    "def rev(s):\n",
    "    \n",
    "    # Base Class\n",
    "    if len(s) <= 1:\n",
    "        return s\n",
    "    \n",
    "    # Recurssion\n",
    "    else:\n",
    "        return rev(s[1:])+ s[0]\n"
   ]
  },
  {
   "cell_type": "code",
   "execution_count": 6,
   "metadata": {},
   "outputs": [
    {
     "data": {
      "text/plain": [
       "'dlrow olleh'"
      ]
     },
     "execution_count": 6,
     "metadata": {},
     "output_type": "execute_result"
    }
   ],
   "source": [
    "rev('hello world')"
   ]
  },
  {
   "cell_type": "code",
   "execution_count": 7,
   "metadata": {},
   "outputs": [
    {
     "data": {
      "text/plain": [
       "'cba'"
      ]
     },
     "execution_count": 7,
     "metadata": {},
     "output_type": "execute_result"
    }
   ],
   "source": [
    "rev('abc')"
   ]
  },
  {
   "cell_type": "raw",
   "metadata": {},
   "source": [
    "# step 1:\n",
    "  bc   a\n",
    "\n",
    "# step 2:\n",
    "\n",
    " c     b a\n",
    "\n",
    "# step 3:\n",
    " c  b    a\n",
    "\n",
    "# lastly add/concatenate all\n",
    "c+b+a=== cba"
   ]
  },
  {
   "cell_type": "markdown",
   "metadata": {},
   "source": [
    "# Problem 2\n",
    "### String Permutation\n",
    "### Problem Statement\n",
    "Given a string, write a function that uses recursion to output a list of all the possible permutations of that string.\n",
    "\n",
    "For example, given s='abc' the function should return ['abc', 'acb', 'bac', 'bca', 'cab', 'cba']\n",
    "\n",
    "Note: If a character is repeated, treat each occurence as distinct, for example an input of 'xxx' would return a list with 6 \"versions\" of 'xxx'"
   ]
  },
  {
   "cell_type": "markdown",
   "metadata": {},
   "source": [
    "## Fill Out Your Solution Below\n",
    "\n",
    "Iterate through the initial string – e.g., ‘abc’.\n",
    "For each character in the initial string, set aside that character and get a list of all permutations of the string that’s left. So, for example, if the current iteration is on 'b', we’d want to find all the permutations of the string 'ac'.\n",
    "\n",
    "Once you have the list from step 2, add each element from that list to the character from the initial string, and append the result to our list of final results. So if we’re on 'b' and we’ve gotten the list ['ac', 'ca'], we’d add 'b' to those, resulting in 'bac' and 'bca', each of which we’d add to our final results.\n",
    "\n",
    "Return the list of final results."
   ]
  },
  {
   "cell_type": "code",
   "execution_count": 15,
   "metadata": {},
   "outputs": [],
   "source": [
    "def permute(s):\n",
    "    \n",
    "    # output  a list\n",
    "    out=[]\n",
    "    \n",
    "    # base class--> this will happen when there is only one letter left\n",
    "    \n",
    "    if len(s) == 1:\n",
    "        out = [s]\n",
    "        \n",
    "    # Recurssion\n",
    "    else:\n",
    "        \n",
    "        # for every letter in string\n",
    "        \n",
    "        for i,let in enumerate(s):\n",
    "            \n",
    "            # for every permutation resulting from Step 2 and Step 3\n",
    "            \n",
    "            for perm in permute(s[:i] + s[i+1:]):\n",
    "                \n",
    "                print('current letter is',let)\n",
    "                print('perm is',perm)\n",
    "                \n",
    "                # Add it to the output\n",
    "                out += [let+perm]\n",
    "    return out\n"
   ]
  },
  {
   "cell_type": "code",
   "execution_count": 16,
   "metadata": {},
   "outputs": [
    {
     "name": "stdout",
     "output_type": "stream",
     "text": [
      "current letter is b\n",
      "perm is c\n",
      "current letter is c\n",
      "perm is b\n",
      "current letter is a\n",
      "perm is bc\n",
      "current letter is a\n",
      "perm is cb\n",
      "current letter is a\n",
      "perm is c\n",
      "current letter is c\n",
      "perm is a\n",
      "current letter is b\n",
      "perm is ac\n",
      "current letter is b\n",
      "perm is ca\n",
      "current letter is a\n",
      "perm is b\n",
      "current letter is b\n",
      "perm is a\n",
      "current letter is c\n",
      "perm is ab\n",
      "current letter is c\n",
      "perm is ba\n"
     ]
    },
    {
     "data": {
      "text/plain": [
       "['abc', 'acb', 'bac', 'bca', 'cab', 'cba']"
      ]
     },
     "execution_count": 16,
     "metadata": {},
     "output_type": "execute_result"
    }
   ],
   "source": [
    "permute('abc')"
   ]
  },
  {
   "cell_type": "code",
   "execution_count": null,
   "metadata": {},
   "outputs": [],
   "source": []
  },
  {
   "cell_type": "markdown",
   "metadata": {},
   "source": [
    "# Problem 3"
   ]
  },
  {
   "cell_type": "markdown",
   "metadata": {},
   "source": [
    "# Fibonnaci Sequence\n",
    "Implement a Fibonnaci Sequence in three different ways:\n",
    "\n",
    "### Recursively <br>\n",
    "### Dynamically (Using Memoization to store results)<br>\n",
    "### Iteratively\n",
    "\n",
    "\n",
    "Remember that a fibonacci sequence: 0,1,1,2,3,5,8,13,21,... starts off with a base case checking to see if n = 0 or 1, then it returns 1.\n",
    "\n",
    "Else it returns fib(n-1)+fib(n+2).\n",
    "\n"
   ]
  },
  {
   "cell_type": "markdown",
   "metadata": {},
   "source": [
    "### Recursively\n",
    "The recursive solution is exponential time Big-O , with O(2^n). However, its a very simple and basic implementation to consider:"
   ]
  },
  {
   "cell_type": "code",
   "execution_count": 22,
   "metadata": {},
   "outputs": [],
   "source": [
    "def fib_rec(n):\n",
    "    \n",
    "    # base class\n",
    "    if n==0 or n== 1:\n",
    "        return n\n",
    " #Recusrrion \n",
    "    else:\n",
    "        \n",
    "        return fib_rec(n-1) + fib_rec(n-2)   \n",
    "    "
   ]
  },
  {
   "cell_type": "code",
   "execution_count": 23,
   "metadata": {},
   "outputs": [
    {
     "data": {
      "text/plain": [
       "55"
      ]
     },
     "execution_count": 23,
     "metadata": {},
     "output_type": "execute_result"
    }
   ],
   "source": [
    "fib_rec(10)"
   ]
  },
  {
   "cell_type": "markdown",
   "metadata": {},
   "source": [
    "### Dynamically\n",
    "In the form it is implemented here, the cache is set beforehand and is based on the desired n number of the Fibonacci Sequence. Note how we check it the cache[n] != None, meaning we have a check to know wether or not to keep setting the cache (and more importantly keep cache of old results!)"
   ]
  },
  {
   "cell_type": "code",
   "execution_count": 25,
   "metadata": {},
   "outputs": [],
   "source": [
    "# Cache\n",
    "n=10\n",
    "cache=[None]*(n+1)"
   ]
  },
  {
   "cell_type": "code",
   "execution_count": 28,
   "metadata": {},
   "outputs": [],
   "source": [
    "def dyn_fib(n):\n",
    "    \n",
    "    # Base case\n",
    "    \n",
    "    if n == 0 or n==1:\n",
    "        return n   \n",
    "    \n",
    "    # Check cache\n",
    "    \n",
    "    if cache[n] != None:\n",
    "        \n",
    "        return cache[n]\n",
    "    \n",
    "    \n",
    "    # Keep setting cache\n",
    "    \n",
    "    cache[n]=  dyn_fib(n-1) + dyn_fib(n-2)\n",
    "    \n",
    "    return cache[n]\n",
    " "
   ]
  },
  {
   "cell_type": "code",
   "execution_count": 29,
   "metadata": {},
   "outputs": [
    {
     "data": {
      "text/plain": [
       "55"
      ]
     },
     "execution_count": 29,
     "metadata": {},
     "output_type": "execute_result"
    }
   ],
   "source": [
    "dyn_fib(10)"
   ]
  },
  {
   "cell_type": "code",
   "execution_count": 30,
   "metadata": {},
   "outputs": [
    {
     "ename": "IndexError",
     "evalue": "list index out of range",
     "output_type": "error",
     "traceback": [
      "\u001b[1;31m---------------------------------------------------------------------------\u001b[0m",
      "\u001b[1;31mIndexError\u001b[0m                                Traceback (most recent call last)",
      "\u001b[1;32m<ipython-input-30-45b5d2080c1d>\u001b[0m in \u001b[0;36m<module>\u001b[1;34m\u001b[0m\n\u001b[1;32m----> 1\u001b[1;33m \u001b[0mdyn_fib\u001b[0m\u001b[1;33m(\u001b[0m\u001b[1;36m12\u001b[0m\u001b[1;33m)\u001b[0m\u001b[1;33m\u001b[0m\u001b[1;33m\u001b[0m\u001b[0m\n\u001b[0m",
      "\u001b[1;32m<ipython-input-28-ac78081ba38e>\u001b[0m in \u001b[0;36mdyn_fib\u001b[1;34m(n)\u001b[0m\n\u001b[0;32m      8\u001b[0m     \u001b[1;31m# Check cache\u001b[0m\u001b[1;33m\u001b[0m\u001b[1;33m\u001b[0m\u001b[1;33m\u001b[0m\u001b[0m\n\u001b[0;32m      9\u001b[0m \u001b[1;33m\u001b[0m\u001b[0m\n\u001b[1;32m---> 10\u001b[1;33m     \u001b[1;32mif\u001b[0m \u001b[0mcache\u001b[0m\u001b[1;33m[\u001b[0m\u001b[0mn\u001b[0m\u001b[1;33m]\u001b[0m \u001b[1;33m!=\u001b[0m \u001b[1;32mNone\u001b[0m\u001b[1;33m:\u001b[0m\u001b[1;33m\u001b[0m\u001b[1;33m\u001b[0m\u001b[0m\n\u001b[0m\u001b[0;32m     11\u001b[0m \u001b[1;33m\u001b[0m\u001b[0m\n\u001b[0;32m     12\u001b[0m         \u001b[1;32mreturn\u001b[0m \u001b[0mcache\u001b[0m\u001b[1;33m[\u001b[0m\u001b[0mn\u001b[0m\u001b[1;33m]\u001b[0m\u001b[1;33m\u001b[0m\u001b[1;33m\u001b[0m\u001b[0m\n",
      "\u001b[1;31mIndexError\u001b[0m: list index out of range"
     ]
    }
   ],
   "source": [
    "dyn_fib(12) # will give error\n",
    "#because n= 10 is defined above in cache so we cannot take any other n value."
   ]
  },
  {
   "cell_type": "markdown",
   "metadata": {},
   "source": [
    "### Iteratively\n",
    "In this solution we can take advantage of Python's tuple unpacking!"
   ]
  },
  {
   "cell_type": "code",
   "execution_count": 17,
   "metadata": {},
   "outputs": [],
   "source": [
    "def iter_fib(n):\n",
    "    \n",
    "    a=0\n",
    "    b=1\n",
    "    \n",
    "    for i in range (n):\n",
    "         a,b = b,a+b\n",
    "    \n",
    "    return a\n",
    "    "
   ]
  },
  {
   "cell_type": "code",
   "execution_count": 18,
   "metadata": {},
   "outputs": [
    {
     "data": {
      "text/plain": [
       "55"
      ]
     },
     "execution_count": 18,
     "metadata": {},
     "output_type": "execute_result"
    }
   ],
   "source": [
    "iter_fib(10)"
   ]
  },
  {
   "cell_type": "markdown",
   "metadata": {},
   "source": [
    "# Problem 4"
   ]
  },
  {
   "cell_type": "markdown",
   "metadata": {},
   "source": [
    "# Coin change"
   ]
  },
  {
   "cell_type": "code",
   "execution_count": null,
   "metadata": {},
   "outputs": [],
   "source": []
  },
  {
   "cell_type": "code",
   "execution_count": null,
   "metadata": {},
   "outputs": [],
   "source": []
  }
 ],
 "metadata": {
  "kernelspec": {
   "display_name": "Python 3",
   "language": "python",
   "name": "python3"
  },
  "language_info": {
   "codemirror_mode": {
    "name": "ipython",
    "version": 3
   },
   "file_extension": ".py",
   "mimetype": "text/x-python",
   "name": "python",
   "nbconvert_exporter": "python",
   "pygments_lexer": "ipython3",
   "version": "3.7.6"
  }
 },
 "nbformat": 4,
 "nbformat_minor": 4
}
